{
 "cells": [
  {
   "cell_type": "markdown",
   "metadata": {},
   "source": [
    "# Model Performance and Characteristics"
   ]
  },
  {
   "cell_type": "markdown",
   "metadata": {},
   "source": [
    "We will explore the model performance the per-cell and per-sample prediction level. Additionally, we will look at representative cells of APL vs AML."
   ]
  },
  {
   "cell_type": "code",
   "execution_count": null,
   "metadata": {},
   "outputs": [],
   "source": [
    "#Load Imports and Model\n",
    "import sys\n",
    "sys.path.append('../')\n",
    "from DeepAPL.DeepAPL import DeepAPL_SC\n",
    "import os\n",
    "import numpy as np\n",
    "import pickle\n",
    "import matplotlib.pyplot as plt\n",
    "from sklearn.metrics import roc_curve,roc_auc_score\n",
    "import warnings\n",
    "warnings.filterwarnings('ignore')\n",
    "gpu = 1\n",
    "classes = ['AML','APL']\n",
    "#Select for only Immature cells\n",
    "cell_types = ['Blast, no lineage spec','Myelocyte','Promyelocyte','Metamyelocyte','Promonocyte']\n",
    "device = '/device:GPU:'+ str(gpu)\n",
    "DAPL = DeepAPL_SC('Blast_S_'+str(gpu),device=device)\n",
    "DAPL.Import_Data(directory='../Data/All', Load_Prev_Data=True, classes=classes,\n",
    "                 include_cell_types=cell_types)\n",
    "with open('Cell_Preds.pkl','rb') as f:\n",
    "    DAPL.Cell_Pred = pickle.load(f)\n",
    "with open('Cell_Masks.pkl','rb') as f:\n",
    "    DAPL.w = pickle.load(f)"
   ]
  },
  {
   "cell_type": "markdown",
   "metadata": {},
   "source": [
    "## Per-Cell Prediction Performance"
   ]
  },
  {
   "cell_type": "code",
   "execution_count": null,
   "metadata": {},
   "outputs": [],
   "source": [
    "plt.figure()\n",
    "plt.plot([0, 1], [0, 1], color='navy', lw=2, linestyle='--')\n",
    "plt.xlim([0.0, 1.0])\n",
    "plt.ylim([0.0, 1.05])\n",
    "plt.xlabel('False Positive Rate')\n",
    "plt.ylabel('True Positive Rate')\n",
    "y_test = np.asarray(DAPL.Cell_Pred['Label']) == 'APL'\n",
    "y_pred = np.asarray(DAPL.Cell_Pred['APL'])\n",
    "roc_score = roc_auc_score(y_test,y_pred)\n",
    "fpr, tpr, th = roc_curve(y_test, y_pred)\n",
    "id = 'APL'\n",
    "plt.plot(fpr, tpr, lw=2, label='%s (area = %0.4f)' % (id, roc_score))\n",
    "plt.legend(loc=\"lower right\")\n"
   ]
  },
  {
   "cell_type": "markdown",
   "metadata": {},
   "source": [
    "## Cell Predictions by Cell Type"
   ]
  },
  {
   "cell_type": "code",
   "execution_count": null,
   "metadata": {},
   "outputs": [],
   "source": [
    "import seaborn as sns\n",
    "order = ['Blast, no lineage spec', 'Promonocyte', 'Promyelocyte', 'Myelocyte', 'Metamyelocyte', ]\n",
    "sns.violinplot(data=DAPL.Cell_Pred,x='Cell_Type',y='APL',order=order,cut=0)"
   ]
  },
  {
   "cell_type": "markdown",
   "metadata": {},
   "source": [
    "## Cell Predictions by Cell Type (stratified by AML/APL)"
   ]
  },
  {
   "cell_type": "code",
   "execution_count": null,
   "metadata": {},
   "outputs": [],
   "source": [
    "sns.violinplot(data=DAPL.Cell_Pred,x='Label',y='APL',hue='Cell_Type',hue_order=order,cut=0)"
   ]
  },
  {
   "cell_type": "markdown",
   "metadata": {},
   "source": [
    "## Sample Level Predictions"
   ]
  },
  {
   "cell_type": "markdown",
   "metadata": {},
   "source": [
    "Per-Cell predictions will be averaged over a sample to get a per-sample probability of being APL/AML. This will then be used to characterize the sample-level prediction performane."
   ]
  },
  {
   "cell_type": "code",
   "execution_count": null,
   "metadata": {},
   "outputs": [],
   "source": [
    "DAPL.Sample_Summary(Load_Prev_Data=True)"
   ]
  }
 ],
 "metadata": {
  "kernelspec": {
   "display_name": "deepapl",
   "language": "python",
   "name": "deepapl"
  },
  "language_info": {
   "codemirror_mode": {
    "name": "ipython",
    "version": 3
   },
   "file_extension": ".py",
   "mimetype": "text/x-python",
   "name": "python",
   "nbconvert_exporter": "python",
   "pygments_lexer": "ipython3",
   "version": "3.6.9"
  }
 },
 "nbformat": 4,
 "nbformat_minor": 2
}
