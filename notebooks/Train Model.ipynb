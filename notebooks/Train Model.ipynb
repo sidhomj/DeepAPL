{
 "cells": [
  {
   "cell_type": "markdown",
   "metadata": {},
   "source": [
    "# Train Model"
   ]
  },
  {
   "cell_type": "markdown",
   "metadata": {},
   "source": [
    "We will train CNN on 3959 cells ('Blast, no lineage spec','Myelocyte','Promyelocyte','Metamyelocyte','Promonocyte') from 85 samples (53 AML, 32 APL) to predict whether a cell came from an AML or APL patient. "
   ]
  },
  {
   "cell_type": "markdown",
   "metadata": {},
   "source": [
    "## Load Data"
   ]
  },
  {
   "cell_type": "code",
   "execution_count": 5,
   "metadata": {},
   "outputs": [],
   "source": [
    "import sys\n",
    "sys.path.append('../')\n",
    "from DeepAPL.DeepAPL import DeepAPL_SC\n",
    "import os\n",
    "import numpy as np\n",
    "import pickle\n",
    "import matplotlib.pyplot as plt\n",
    "from sklearn.metrics import roc_curve,roc_auc_score\n",
    "import warnings\n",
    "warnings.filterwarnings('ignore')\n",
    "\n",
    "gpu = 1\n",
    "os.environ[\"CUDA DEVICE ORDER\"] = 'PCI_BUS_ID'\n",
    "os.environ[\"CUDA_VISIBLE_DEVICES\"] = str(gpu)\n",
    "\n",
    "#Train Classifier on Discovery Cohort\n",
    "classes = ['AML','APL']\n",
    "#Select for only Immature cells\n",
    "cell_types = ['Blast, no lineage spec','Myelocyte','Promyelocyte','Metamyelocyte','Promonocyte']\n",
    "device = '/device:GPU:'+ str(gpu)\n",
    "DAPL = DeepAPL_SC('Blast_S_'+str(gpu),device=device)\n",
    "DAPL.Import_Data(directory='../Data/All', Load_Prev_Data=False, classes=classes,\n",
    "                 include_cell_types=cell_types,sample=None)"
   ]
  },
  {
   "cell_type": "markdown",
   "metadata": {},
   "source": [
    "## Train Model"
   ]
  },
  {
   "cell_type": "code",
   "execution_count": 6,
   "metadata": {},
   "outputs": [
    {
     "name": "stdout",
     "output_type": "stream",
     "text": [
      "INFO:tensorflow:Blast_S_1/models/model_0/model.ckpt is not in all_model_checkpoint_paths. Manually adding it.\n",
      "INFO:tensorflow:Blast_S_1/models/model_1/model.ckpt is not in all_model_checkpoint_paths. Manually adding it.\n",
      "INFO:tensorflow:Blast_S_1/models/model_2/model.ckpt is not in all_model_checkpoint_paths. Manually adding it.\n",
      "INFO:tensorflow:Blast_S_1/models/model_3/model.ckpt is not in all_model_checkpoint_paths. Manually adding it.\n",
      "INFO:tensorflow:Blast_S_1/models/model_4/model.ckpt is not in all_model_checkpoint_paths. Manually adding it.\n",
      "INFO:tensorflow:Blast_S_1/models/model_5/model.ckpt is not in all_model_checkpoint_paths. Manually adding it.\n",
      "INFO:tensorflow:Blast_S_1/models/model_6/model.ckpt is not in all_model_checkpoint_paths. Manually adding it.\n",
      "INFO:tensorflow:Blast_S_1/models/model_7/model.ckpt is not in all_model_checkpoint_paths. Manually adding it.\n",
      "INFO:tensorflow:Blast_S_1/models/model_8/model.ckpt is not in all_model_checkpoint_paths. Manually adding it.\n",
      "INFO:tensorflow:Blast_S_1/models/model_9/model.ckpt is not in all_model_checkpoint_paths. Manually adding it.\n",
      "INFO:tensorflow:Blast_S_1/models/model_10/model.ckpt is not in all_model_checkpoint_paths. Manually adding it.\n",
      "INFO:tensorflow:Blast_S_1/models/model_11/model.ckpt is not in all_model_checkpoint_paths. Manually adding it.\n",
      "INFO:tensorflow:Blast_S_1/models/model_12/model.ckpt is not in all_model_checkpoint_paths. Manually adding it.\n",
      "INFO:tensorflow:Blast_S_1/models/model_13/model.ckpt is not in all_model_checkpoint_paths. Manually adding it.\n",
      "INFO:tensorflow:Blast_S_1/models/model_14/model.ckpt is not in all_model_checkpoint_paths. Manually adding it.\n",
      "INFO:tensorflow:Blast_S_1/models/model_15/model.ckpt is not in all_model_checkpoint_paths. Manually adding it.\n",
      "INFO:tensorflow:Blast_S_1/models/model_16/model.ckpt is not in all_model_checkpoint_paths. Manually adding it.\n",
      "INFO:tensorflow:Blast_S_1/models/model_17/model.ckpt is not in all_model_checkpoint_paths. Manually adding it.\n",
      "INFO:tensorflow:Blast_S_1/models/model_18/model.ckpt is not in all_model_checkpoint_paths. Manually adding it.\n",
      "INFO:tensorflow:Blast_S_1/models/model_19/model.ckpt is not in all_model_checkpoint_paths. Manually adding it.\n",
      "INFO:tensorflow:Blast_S_1/models/model_20/model.ckpt is not in all_model_checkpoint_paths. Manually adding it.\n",
      "INFO:tensorflow:Blast_S_1/models/model_21/model.ckpt is not in all_model_checkpoint_paths. Manually adding it.\n",
      "INFO:tensorflow:Blast_S_1/models/model_22/model.ckpt is not in all_model_checkpoint_paths. Manually adding it.\n",
      "INFO:tensorflow:Blast_S_1/models/model_23/model.ckpt is not in all_model_checkpoint_paths. Manually adding it.\n",
      "INFO:tensorflow:Blast_S_1/models/model_24/model.ckpt is not in all_model_checkpoint_paths. Manually adding it.\n",
      "INFO:tensorflow:Blast_S_1/models/model_25/model.ckpt is not in all_model_checkpoint_paths. Manually adding it.\n",
      "INFO:tensorflow:Blast_S_1/models/model_26/model.ckpt is not in all_model_checkpoint_paths. Manually adding it.\n",
      "INFO:tensorflow:Blast_S_1/models/model_27/model.ckpt is not in all_model_checkpoint_paths. Manually adding it.\n",
      "INFO:tensorflow:Blast_S_1/models/model_28/model.ckpt is not in all_model_checkpoint_paths. Manually adding it.\n",
      "INFO:tensorflow:Blast_S_1/models/model_29/model.ckpt is not in all_model_checkpoint_paths. Manually adding it.\n",
      "INFO:tensorflow:Blast_S_1/models/model_30/model.ckpt is not in all_model_checkpoint_paths. Manually adding it.\n",
      "INFO:tensorflow:Blast_S_1/models/model_31/model.ckpt is not in all_model_checkpoint_paths. Manually adding it.\n",
      "INFO:tensorflow:Blast_S_1/models/model_32/model.ckpt is not in all_model_checkpoint_paths. Manually adding it.\n",
      "INFO:tensorflow:Blast_S_1/models/model_33/model.ckpt is not in all_model_checkpoint_paths. Manually adding it.\n",
      "INFO:tensorflow:Blast_S_1/models/model_34/model.ckpt is not in all_model_checkpoint_paths. Manually adding it.\n",
      "INFO:tensorflow:Blast_S_1/models/model_35/model.ckpt is not in all_model_checkpoint_paths. Manually adding it.\n",
      "INFO:tensorflow:Blast_S_1/models/model_36/model.ckpt is not in all_model_checkpoint_paths. Manually adding it.\n",
      "INFO:tensorflow:Blast_S_1/models/model_37/model.ckpt is not in all_model_checkpoint_paths. Manually adding it.\n",
      "INFO:tensorflow:Blast_S_1/models/model_38/model.ckpt is not in all_model_checkpoint_paths. Manually adding it.\n",
      "INFO:tensorflow:Blast_S_1/models/model_39/model.ckpt is not in all_model_checkpoint_paths. Manually adding it.\n",
      "INFO:tensorflow:Blast_S_1/models/model_40/model.ckpt is not in all_model_checkpoint_paths. Manually adding it.\n",
      "INFO:tensorflow:Blast_S_1/models/model_41/model.ckpt is not in all_model_checkpoint_paths. Manually adding it.\n",
      "INFO:tensorflow:Blast_S_1/models/model_42/model.ckpt is not in all_model_checkpoint_paths. Manually adding it.\n",
      "INFO:tensorflow:Blast_S_1/models/model_43/model.ckpt is not in all_model_checkpoint_paths. Manually adding it.\n",
      "INFO:tensorflow:Blast_S_1/models/model_44/model.ckpt is not in all_model_checkpoint_paths. Manually adding it.\n",
      "INFO:tensorflow:Blast_S_1/models/model_45/model.ckpt is not in all_model_checkpoint_paths. Manually adding it.\n",
      "INFO:tensorflow:Blast_S_1/models/model_46/model.ckpt is not in all_model_checkpoint_paths. Manually adding it.\n",
      "INFO:tensorflow:Blast_S_1/models/model_47/model.ckpt is not in all_model_checkpoint_paths. Manually adding it.\n",
      "INFO:tensorflow:Blast_S_1/models/model_48/model.ckpt is not in all_model_checkpoint_paths. Manually adding it.\n",
      "INFO:tensorflow:Blast_S_1/models/model_49/model.ckpt is not in all_model_checkpoint_paths. Manually adding it.\n",
      "INFO:tensorflow:Blast_S_1/models/model_50/model.ckpt is not in all_model_checkpoint_paths. Manually adding it.\n",
      "INFO:tensorflow:Blast_S_1/models/model_51/model.ckpt is not in all_model_checkpoint_paths. Manually adding it.\n",
      "INFO:tensorflow:Blast_S_1/models/model_52/model.ckpt is not in all_model_checkpoint_paths. Manually adding it.\n",
      "INFO:tensorflow:Blast_S_1/models/model_53/model.ckpt is not in all_model_checkpoint_paths. Manually adding it.\n",
      "INFO:tensorflow:Blast_S_1/models/model_54/model.ckpt is not in all_model_checkpoint_paths. Manually adding it.\n",
      "INFO:tensorflow:Blast_S_1/models/model_55/model.ckpt is not in all_model_checkpoint_paths. Manually adding it.\n",
      "INFO:tensorflow:Blast_S_1/models/model_56/model.ckpt is not in all_model_checkpoint_paths. Manually adding it.\n",
      "INFO:tensorflow:Blast_S_1/models/model_57/model.ckpt is not in all_model_checkpoint_paths. Manually adding it.\n",
      "INFO:tensorflow:Blast_S_1/models/model_58/model.ckpt is not in all_model_checkpoint_paths. Manually adding it.\n",
      "INFO:tensorflow:Blast_S_1/models/model_59/model.ckpt is not in all_model_checkpoint_paths. Manually adding it.\n",
      "INFO:tensorflow:Blast_S_1/models/model_60/model.ckpt is not in all_model_checkpoint_paths. Manually adding it.\n",
      "INFO:tensorflow:Blast_S_1/models/model_61/model.ckpt is not in all_model_checkpoint_paths. Manually adding it.\n",
      "INFO:tensorflow:Blast_S_1/models/model_62/model.ckpt is not in all_model_checkpoint_paths. Manually adding it.\n",
      "INFO:tensorflow:Blast_S_1/models/model_63/model.ckpt is not in all_model_checkpoint_paths. Manually adding it.\n",
      "INFO:tensorflow:Blast_S_1/models/model_64/model.ckpt is not in all_model_checkpoint_paths. Manually adding it.\n",
      "INFO:tensorflow:Blast_S_1/models/model_65/model.ckpt is not in all_model_checkpoint_paths. Manually adding it.\n",
      "INFO:tensorflow:Blast_S_1/models/model_66/model.ckpt is not in all_model_checkpoint_paths. Manually adding it.\n",
      "INFO:tensorflow:Blast_S_1/models/model_67/model.ckpt is not in all_model_checkpoint_paths. Manually adding it.\n",
      "INFO:tensorflow:Blast_S_1/models/model_68/model.ckpt is not in all_model_checkpoint_paths. Manually adding it.\n",
      "INFO:tensorflow:Blast_S_1/models/model_69/model.ckpt is not in all_model_checkpoint_paths. Manually adding it.\n",
      "INFO:tensorflow:Blast_S_1/models/model_70/model.ckpt is not in all_model_checkpoint_paths. Manually adding it.\n",
      "INFO:tensorflow:Blast_S_1/models/model_71/model.ckpt is not in all_model_checkpoint_paths. Manually adding it.\n",
      "INFO:tensorflow:Blast_S_1/models/model_72/model.ckpt is not in all_model_checkpoint_paths. Manually adding it.\n",
      "INFO:tensorflow:Blast_S_1/models/model_73/model.ckpt is not in all_model_checkpoint_paths. Manually adding it.\n"
     ]
    },
    {
     "name": "stdout",
     "output_type": "stream",
     "text": [
      "INFO:tensorflow:Blast_S_1/models/model_74/model.ckpt is not in all_model_checkpoint_paths. Manually adding it.\n",
      "INFO:tensorflow:Blast_S_1/models/model_75/model.ckpt is not in all_model_checkpoint_paths. Manually adding it.\n",
      "INFO:tensorflow:Blast_S_1/models/model_76/model.ckpt is not in all_model_checkpoint_paths. Manually adding it.\n",
      "INFO:tensorflow:Blast_S_1/models/model_77/model.ckpt is not in all_model_checkpoint_paths. Manually adding it.\n",
      "INFO:tensorflow:Blast_S_1/models/model_78/model.ckpt is not in all_model_checkpoint_paths. Manually adding it.\n",
      "INFO:tensorflow:Blast_S_1/models/model_79/model.ckpt is not in all_model_checkpoint_paths. Manually adding it.\n",
      "INFO:tensorflow:Blast_S_1/models/model_80/model.ckpt is not in all_model_checkpoint_paths. Manually adding it.\n",
      "INFO:tensorflow:Blast_S_1/models/model_81/model.ckpt is not in all_model_checkpoint_paths. Manually adding it.\n",
      "INFO:tensorflow:Blast_S_1/models/model_82/model.ckpt is not in all_model_checkpoint_paths. Manually adding it.\n",
      "INFO:tensorflow:Blast_S_1/models/model_83/model.ckpt is not in all_model_checkpoint_paths. Manually adding it.\n",
      "INFO:tensorflow:Blast_S_1/models/model_84/model.ckpt is not in all_model_checkpoint_paths. Manually adding it.\n",
      "INFO:tensorflow:Blast_S_1/models/model_85/model.ckpt is not in all_model_checkpoint_paths. Manually adding it.\n",
      "INFO:tensorflow:Blast_S_1/models/model_86/model.ckpt is not in all_model_checkpoint_paths. Manually adding it.\n",
      "INFO:tensorflow:Blast_S_1/models/model_87/model.ckpt is not in all_model_checkpoint_paths. Manually adding it.\n",
      "INFO:tensorflow:Blast_S_1/models/model_88/model.ckpt is not in all_model_checkpoint_paths. Manually adding it.\n",
      "INFO:tensorflow:Blast_S_1/models/model_89/model.ckpt is not in all_model_checkpoint_paths. Manually adding it.\n",
      "INFO:tensorflow:Blast_S_1/models/model_90/model.ckpt is not in all_model_checkpoint_paths. Manually adding it.\n",
      "INFO:tensorflow:Blast_S_1/models/model_91/model.ckpt is not in all_model_checkpoint_paths. Manually adding it.\n",
      "INFO:tensorflow:Blast_S_1/models/model_92/model.ckpt is not in all_model_checkpoint_paths. Manually adding it.\n",
      "INFO:tensorflow:Blast_S_1/models/model_93/model.ckpt is not in all_model_checkpoint_paths. Manually adding it.\n",
      "INFO:tensorflow:Blast_S_1/models/model_94/model.ckpt is not in all_model_checkpoint_paths. Manually adding it.\n",
      "INFO:tensorflow:Blast_S_1/models/model_95/model.ckpt is not in all_model_checkpoint_paths. Manually adding it.\n",
      "INFO:tensorflow:Blast_S_1/models/model_96/model.ckpt is not in all_model_checkpoint_paths. Manually adding it.\n",
      "INFO:tensorflow:Blast_S_1/models/model_97/model.ckpt is not in all_model_checkpoint_paths. Manually adding it.\n",
      "INFO:tensorflow:Blast_S_1/models/model_98/model.ckpt is not in all_model_checkpoint_paths. Manually adding it.\n",
      "INFO:tensorflow:Blast_S_1/models/model_99/model.ckpt is not in all_model_checkpoint_paths. Manually adding it.\n"
     ]
    }
   ],
   "source": [
    "%%capture\n",
    "folds = 100\n",
    "seeds = np.array(range(folds))\n",
    "epochs_min = 25\n",
    "graph_seed = 0\n",
    "DAPL.Monte_Carlo_CrossVal(folds=folds,seeds=seeds,epochs_min=epochs_min,\n",
    "                          stop_criterion=0.25,test_size=0.25,graph_seed=graph_seed)"
   ]
  },
  {
   "cell_type": "markdown",
   "metadata": {},
   "source": [
    "Get per Cell predictions and save relevant data for downstream analysis."
   ]
  },
  {
   "cell_type": "code",
   "execution_count": 7,
   "metadata": {},
   "outputs": [],
   "source": [
    "DAPL.Get_Cell_Predicted()\n",
    "with open('Cell_Preds.pkl','wb') as f:\n",
    "    pickle.dump(DAPL.Cell_Pred,f,protocol=4)\n",
    "with open('Cell_Masks.pkl','wb') as f:\n",
    "    pickle.dump(DAPL.w,f,protocol=4)"
   ]
  },
  {
   "cell_type": "code",
   "execution_count": null,
   "metadata": {},
   "outputs": [],
   "source": []
  }
 ],
 "metadata": {
  "kernelspec": {
   "display_name": "deepapl",
   "language": "python",
   "name": "deepapl"
  },
  "language_info": {
   "codemirror_mode": {
    "name": "ipython",
    "version": 3
   },
   "file_extension": ".py",
   "mimetype": "text/x-python",
   "name": "python",
   "nbconvert_exporter": "python",
   "pygments_lexer": "ipython3",
   "version": "3.6.9"
  }
 },
 "nbformat": 4,
 "nbformat_minor": 2
}
